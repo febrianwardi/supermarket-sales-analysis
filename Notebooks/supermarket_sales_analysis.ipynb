# 🧰 1. Import Libraries
import pandas as pd
import matplotlib.pyplot as plt
import seaborn as sns

# Set the style
sns.set(style='whitegrid')

# 🛒 Supermarket Sales Analysis
# This analysis explores sales performance using a real-world dataset from a supermarket.
# We'll uncover trends in monthly revenue, top-selling products, branch performance, and product line income.

# 📂 2. Load Dataset
df = pd.read_csv('data/supermarket_sales.csv')
df.head()

# 🧼 3. Preprocessing
# Convert 'Date' to datetime
df['Date'] = pd.to_datetime(df['Date'])

# Create 'Month' and 'Month_Num' columns
df['Month'] = df['Date'].dt.strftime('%B')
df['Month_Num'] = df['Date'].dt.month

# 📈 Monthly Sales Overview
# Analyze monthly revenue to find high-performing periods
monthly_sales = df.groupby(['Month', 'Month_Num'])['Total'].sum().reset_index().sort_values('Month_Num')

plt.figure(figsize=(10, 6))
sns.barplot(x='Month', y='Total', data=monthly_sales, palette='Blues_d')
plt.title('Total Revenue per Month')
plt.ylabel('Revenue')
plt.xlabel('Month')
plt.tight_layout()
plt.savefig('images/monthly_sales.png')
plt.show()

# 🧺 Top Products by Quantity
# Identify best-selling products based on total quantity sold
top_products = df.groupby('Product line')['Quantity'].sum().sort_values(ascending=False)

plt.figure(figsize=(10, 6))
sns.barplot(x=top_products.values, y=top_products.index, palette='Greens_d')
plt.title('Top Products by Quantity Sold')
plt.xlabel('Total Quantity')
plt.tight_layout()
plt.savefig('images/top_products.png')
plt.show()

# 🏪 Branch Revenue Comparison
# See which branch generates the most income
branch_sales = df.groupby('Branch')['Total'].sum().sort_values(ascending=False)

plt.figure(figsize=(8, 5))
sns.barplot(x=branch_sales.index, y=branch_sales.values, palette='Oranges_d')
plt.title('Total Revenue by Branch')
plt.ylabel('Revenue')
plt.xlabel('Branch')
plt.tight_layout()
plt.savefig('images/branch_revenue.png')
plt.show()

# 💵 Gross Income by Product Line
# Evaluate which product line is most profitable
gross_income = df.groupby('Product line')['gross income'].sum().sort_values(ascending=False)

plt.figure(figsize=(10, 6))
sns.barplot(x=gross_income.values, y=gross_income.index, palette='Purples_d')
plt.title('Gross Income by Product Line')
plt.xlabel('Gross Income')
plt.tight_layout()
plt.savefig('images/gross_income.png')
plt.show()

# ✅ Conclusion
print("\nConclusion:")
print("- Branch C is the top-performing branch in terms of gross income and sales.")
print("- Food and Beverages is the highest-grossing and best-selling product line.")
print("- Gross income is fairly consistent across top product lines, but Food and Beverages lead.")
print("- Revenue is highest in January, followed by March and then February.")
