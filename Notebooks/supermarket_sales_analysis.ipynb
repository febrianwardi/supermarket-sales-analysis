{
 "cells": [
  {
   "cell_type": "code",
   "execution_count": null,
   "id": "99592959",
   "metadata": {
    "vscode": {
     "languageId": "plaintext"
    }
   },
   "outputs": [],
   "source": [
    "# 🧰 1. Import Libraries\n",
    "import pandas as pd\n",
    "import matplotlib.pyplot as plt\n",
    "import seaborn as sns\n",
    "\n",
    "# Set the style\n",
    "sns.set(style='whitegrid')\n"
   ]
  },
  {
   "cell_type": "markdown",
   "id": "df8a3c1d",
   "metadata": {},
   "source": [
    "# 🛒 Supermarket Sales Analysis\n",
    "\n",
    "This analysis explores sales performance using a real-world dataset from a supermarket. We'll uncover trends in monthly revenue, top-selling products, branch performance, and product line income.\n"
   ]
  },
  {
   "cell_type": "code",
   "execution_count": null,
   "id": "fe1e66ce",
   "metadata": {
    "vscode": {
     "languageId": "plaintext"
    }
   },
   "outputs": [],
   "source": [
    "# 📂 2. Load Dataset\n",
    "df = pd.read_csv('data/supermarket_sales.csv')\n",
    "df.head()\n"
   ]
  },
  {
   "cell_type": "code",
   "execution_count": null,
   "id": "121e336b",
   "metadata": {
    "vscode": {
     "languageId": "plaintext"
    }
   },
   "outputs": [],
   "source": [
    "# 🧼 3. Preprocessing\n",
    "# Convert 'Date' to datetime\n",
    "df['Date'] = pd.to_datetime(df['Date'])\n",
    "\n",
    "# Create 'Month' column\n",
    "df['Month'] = df['Date'].dt.strftime('%B')\n",
    "df['Month_Num'] = df['Date'].dt.month\n"
   ]
  },
  {
   "cell_type": "markdown",
   "id": "ea726456",
   "metadata": {},
   "source": [
    "## 📈 Monthly Sales Overview\n",
    "\n",
    "Let's analyze monthly revenue to find high-performing periods.\n"
   ]
  },
  {
   "cell_type": "code",
   "execution_count": null,
   "id": "abba4387",
   "metadata": {
    "vscode": {
     "languageId": "plaintext"
    }
   },
   "outputs": [],
   "source": [
    "# 💰 4. Monthly Revenue\n",
    "monthly_sales = df.groupby(['Month', 'Month_Num'])['Total'].sum().reset_index().sort_values('Month_Num')\n",
    "\n",
    "plt.figure(figsize=(10, 6))\n",
    "sns.barplot(x='Month', y='Total', data=monthly_sales, palette='Blues_d')\n",
    "plt.title('Total Revenue per Month')\n",
    "plt.ylabel('Revenue')\n",
    "plt.xlabel('Month')\n",
    "plt.tight_layout()\n",
    "plt.savefig('images/monthly_sales.png')\n",
    "plt.show()\n"
   ]
  },
  {
   "cell_type": "markdown",
   "id": "e9289c1e",
   "metadata": {},
   "source": [
    "## 🧺 Top Products by Quantity\n",
    "\n",
    "Identify best-selling products based on total quantity sold.\n"
   ]
  },
  {
   "cell_type": "code",
   "execution_count": null,
   "id": "62e2aa17",
   "metadata": {
    "vscode": {
     "languageId": "plaintext"
    }
   },
   "outputs": [],
   "source": [
    "# 🛍️ 5. Top Products\n",
    "top_products = df.groupby('Product line')['Quantity'].sum().sort_values(ascending=False)\n",
    "\n",
    "plt.figure(figsize=(10, 6))\n",
    "sns.barplot(x=top_products.values, y=top_products.index, palette='Greens_d')\n",
    "plt.title('Top Products by Quantity Sold')\n",
    "plt.xlabel('Total Quantity')\n",
    "plt.tight_layout()\n",
    "plt.savefig('images/top_products.png')\n",
    "plt.show()\n"
   ]
  },
  {
   "cell_type": "markdown",
   "id": "e7b6e8a0",
   "metadata": {},
   "source": [
    "## 🏪 Branch Revenue Comparison\n",
    "\n",
    "See which branch generates the most income.\n"
   ]
  },
  {
   "cell_type": "code",
   "execution_count": null,
   "id": "a31be8d2",
   "metadata": {
    "vscode": {
     "languageId": "plaintext"
    }
   },
   "outputs": [],
   "source": [
    "# 🏬 6. Branch Revenue\n",
    "branch_sales = df.groupby('Branch')['Total'].sum().sort_values(ascending=False)\n",
    "\n",
    "plt.figure(figsize=(8, 5))\n",
    "sns.barplot(x=branch_sales.index, y=branch_sales.values, palette='Oranges_d')\n",
    "plt.title('Total Revenue by Branch')\n",
    "plt.ylabel('Revenue')\n",
    "plt.xlabel('Branch')\n",
    "plt.tight_layout()\n",
    "plt.savefig('images/branch_revenue.png')\n",
    "plt.show()\n"
   ]
  },
  {
   "cell_type": "markdown",
   "id": "0cbd46d1",
   "metadata": {},
   "source": [
    "## 💵 Gross Income by Product Line\n",
    "\n",
    "Evaluate which product line is most profitable.\n"
   ]
  },
  {
   "cell_type": "code",
   "execution_count": null,
   "id": "ac5e4ab9",
   "metadata": {
    "vscode": {
     "languageId": "plaintext"
    }
   },
   "outputs": [],
   "source": [
    "# 📊 7. Gross Income\n",
    "gross_income = df.groupby('Product line')['gross income'].sum().sort_values(ascending=False)\n",
    "\n",
    "plt.figure(figsize=(10, 6))\n",
    "sns.barplot(x=gross_income.values, y=gross_income.index, palette='Purples_d')\n",
    "plt.title('Gross Income by Product Line')\n",
    "plt.xlabel('Gross Income')\n",
    "plt.tight_layout()\n",
    "plt.savefig('images/gross_income.png')\n",
    "plt.show()\n"
   ]
  },
  {
   "cell_type": "markdown",
   "id": "8f089f11",
   "metadata": {},
   "source": [
    "# ✅ Conclusion\n",
    "\n",
    "From this analysis:\n",
    "- Some months significantly outperform others in revenue.\n",
    "- [Insert Product] is the best-selling product line.\n",
    "- Branch [Insert Branch] leads in total income.\n",
    "- [Insert Product Line] contributes the most to gross income.\n",
    "\n",
    "This notebook provides a quick yet insightful overview of sales patterns using clean visualizations.\n"
   ]
  }
 ],
 "metadata": {
  "language_info": {
   "name": "python"
  }
 },
 "nbformat": 4,
 "nbformat_minor": 5
}
